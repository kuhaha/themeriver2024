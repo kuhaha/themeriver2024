{
 "cells": [
  {
   "cell_type": "code",
   "execution_count": 1,
   "id": "2cbb1a3b-a6c3-451b-bb97-8d9c831bc3e4",
   "metadata": {},
   "outputs": [],
   "source": [
    "'''\n",
    "# Dowload and install MeCab\n",
    "pip install pandas\n",
    "# trouble shooting with `numpy` version \n",
    "pip install numpy==2.0.0\n",
    "pip install mecab-python\n",
    "pip install unidic-lite\n",
    "'''\n",
    "import re\n",
    "import os\n",
    "import collections\n",
    "import pandas as pd\n",
    "from pprint import pprint\n",
    "\n",
    "from termextract import LRValue\n",
    "# from termextract.preprocessing import extract_nouns, morphemes_to_surface, MeCabTokenizer\n",
    "from termextract.preprocessing import MeCabTokenizer\n",
    "\n",
    "import word_wakati as wkt"
   ]
  },
  {
   "cell_type": "code",
   "execution_count": 2,
   "id": "dd54b84a-ec34-4fad-9227-ff0f9c7ab26a",
   "metadata": {},
   "outputs": [
    {
     "data": {
      "text/html": [
       "<div>\n",
       "<style scoped>\n",
       "    .dataframe tbody tr th:only-of-type {\n",
       "        vertical-align: middle;\n",
       "    }\n",
       "\n",
       "    .dataframe tbody tr th {\n",
       "        vertical-align: top;\n",
       "    }\n",
       "\n",
       "    .dataframe thead th {\n",
       "        text-align: right;\n",
       "    }\n",
       "</style>\n",
       "<table border=\"1\" class=\"dataframe\">\n",
       "  <thead>\n",
       "    <tr style=\"text-align: right;\">\n",
       "      <th></th>\n",
       "      <th>年度</th>\n",
       "      <th>学科／研究科</th>\n",
       "      <th>研究室</th>\n",
       "      <th>学籍番号</th>\n",
       "      <th>賞</th>\n",
       "      <th>氏名</th>\n",
       "      <th>要旨</th>\n",
       "      <th>題目</th>\n",
       "    </tr>\n",
       "  </thead>\n",
       "  <tbody>\n",
       "    <tr>\n",
       "      <th>3</th>\n",
       "      <td>H17</td>\n",
       "      <td>情報科学科</td>\n",
       "      <td>成研</td>\n",
       "      <td>NaN</td>\n",
       "      <td>NaN</td>\n",
       "      <td>NaN</td>\n",
       "      <td>NaN</td>\n",
       "      <td>対面教育を支援するためのウェブ助言システム</td>\n",
       "    </tr>\n",
       "    <tr>\n",
       "      <th>4</th>\n",
       "      <td>H17</td>\n",
       "      <td>情報科学科</td>\n",
       "      <td>石田健研</td>\n",
       "      <td>NaN</td>\n",
       "      <td>NaN</td>\n",
       "      <td>NaN</td>\n",
       "      <td>NaN</td>\n",
       "      <td>衛星通信検討のための気象データの解析-2002年のデータ解析-</td>\n",
       "    </tr>\n",
       "    <tr>\n",
       "      <th>6</th>\n",
       "      <td>H17</td>\n",
       "      <td>情報科学科</td>\n",
       "      <td>仲研</td>\n",
       "      <td>NaN</td>\n",
       "      <td>NaN</td>\n",
       "      <td>NaN</td>\n",
       "      <td>NaN</td>\n",
       "      <td>生化学反応シミュレータの比較評価</td>\n",
       "    </tr>\n",
       "    <tr>\n",
       "      <th>7</th>\n",
       "      <td>H17</td>\n",
       "      <td>情報科学科</td>\n",
       "      <td>澤田研</td>\n",
       "      <td>NaN</td>\n",
       "      <td>NaN</td>\n",
       "      <td>NaN</td>\n",
       "      <td>NaN</td>\n",
       "      <td>FPGAを搭載したロボット教材のためのIPとしてKUE-CHIP2の検討</td>\n",
       "    </tr>\n",
       "    <tr>\n",
       "      <th>9</th>\n",
       "      <td>H17</td>\n",
       "      <td>情報科学科</td>\n",
       "      <td>石田健研</td>\n",
       "      <td>NaN</td>\n",
       "      <td>NaN</td>\n",
       "      <td>NaN</td>\n",
       "      <td>NaN</td>\n",
       "      <td>重畳積文法によるX線CTの画像再構成-Shepp-Loganのフィルタ関数の適用-</td>\n",
       "    </tr>\n",
       "  </tbody>\n",
       "</table>\n",
       "</div>"
      ],
      "text/plain": [
       "    年度 学科／研究科   研究室  学籍番号   賞  氏名   要旨  \\\n",
       "3  H17  情報科学科    成研   NaN NaN NaN  NaN   \n",
       "4  H17  情報科学科  石田健研   NaN NaN NaN  NaN   \n",
       "6  H17  情報科学科    仲研   NaN NaN NaN  NaN   \n",
       "7  H17  情報科学科   澤田研   NaN NaN NaN  NaN   \n",
       "9  H17  情報科学科  石田健研   NaN NaN NaN  NaN   \n",
       "\n",
       "                                          題目  \n",
       "3                      対面教育を支援するためのウェブ助言システム  \n",
       "4            衛星通信検討のための気象データの解析-2002年のデータ解析-  \n",
       "6                           生化学反応シミュレータの比較評価  \n",
       "7       FPGAを搭載したロボット教材のためのIPとしてKUE-CHIP2の検討  \n",
       "9  重畳積文法によるX線CTの画像再構成-Shepp-Loganのフィルタ関数の適用-  "
      ]
     },
     "execution_count": 2,
     "metadata": {},
     "output_type": "execute_result"
    }
   ],
   "source": [
    "df = pd.read_csv(\"datasets/bachelor_themes.csv\",encoding='UTF-8')\n",
    "target_labs = [\n",
    "    '朝廣研','安部研','石田健研','合志研','下川研',\n",
    "    '成研','田中研','仲研','米元研','アプドゥハン研',\n",
    "    '稲永研','于研','石田俊研','澤田研','安武研','前田研']\n",
    "\n",
    "target_docs_df = df[df[\"研究室\"].isin(target_labs )] \n",
    "target_docs_df.head() "
   ]
  },
  {
   "cell_type": "code",
   "execution_count": 3,
   "id": "b0939185-d77a-46c0-8099-b4126c920304",
   "metadata": {},
   "outputs": [
    {
     "data": {
      "text/plain": [
       "array(['H17', 'H18', 'H19', 'H20', 'H21', 'H22', 'H23', 'H24', 'H25',\n",
       "       'H26', 'H27', 'H28', 'H29', 'H30', 'R01', 'R02', 'R03', 'R04'],\n",
       "      dtype=object)"
      ]
     },
     "execution_count": 3,
     "metadata": {},
     "output_type": "execute_result"
    }
   ],
   "source": [
    "years = df[\"年度\"].unique()\n",
    "years"
   ]
  },
  {
   "cell_type": "code",
   "execution_count": 4,
   "id": "8912461c-fc7a-40ef-8dbe-acccbd54d5a8",
   "metadata": {},
   "outputs": [
    {
     "name": "stdout",
     "output_type": "stream",
     "text": [
      "MathematicaとMathTeXを用いた線形代数の教材作成 ―4次の行列式、クラーメルの公式―。MathematicaとMathTeXを用いた微分積分の教材作成 ―合成関数の微分と有理数べき関数の追加―。プログラミング環境による連立一次方程式求解の速度比較。最小点の探索におけるアルゴリズムの調査 ―探索アルゴリズムによる実行時間の比較―。層状媒質の1次元FDTD法解析 ―パルスの反射波から層状媒質の比誘電率分布の推定―。マイクロ波を用いる誘電体円柱の誘電率推定に対するMATLABニューラルネットワークの検証。九産大12号館建物内に侵入したローカル5Gの電波測定\n"
     ]
    }
   ],
   "source": [
    "docs = {}\n",
    "for y in years:\n",
    "    for b in target_labs:\n",
    "        titles = target_docs_df[(target_docs_df['年度']==y) & (target_docs_df['研究室']==b)]['題目'].values.tolist()\n",
    "        # print(f\"{y}:{b}\")\n",
    "        docs[(y, b)] = titles\n",
    "\n",
    "r04_ishida = docs['R04', '石田健研']\n",
    "print('。'.join(r04_ishida))"
   ]
  },
  {
   "cell_type": "code",
   "execution_count": 7,
   "id": "81ba7b2c-a34f-4c36-84b0-70876726299e",
   "metadata": {},
   "outputs": [
    {
     "name": "stdout",
     "output_type": "stream",
     "text": [
      "[['Mathematica'], ['MathTeX'], ['線形', '代数'], ['教材', '作成'], ['4', '次'], ['行列', '式'], ['クラーメル'], ['公式'], ['Mathematica'], ['MathTeX'], ['微分', '積分'], ['教材', '作成'], ['合成', '関数'], ['微分'], ['有理', '数'], ['関数'], ['追加'], ['プログラミング', '環境'], ['連立', '一', '次', '方程', '式', '求', '解'], ['速度', '比較'], ['小点'], ['探索'], ['アルゴリズム'], ['調査'], ['探索', 'アルゴリズム'], ['実行', '時間'], ['比較'], ['層状', '媒質'], ['1', '次元', 'FDTD', '法', '解析'], ['パルス'], ['反射', '波'], ['層状', '媒質'], ['比', '誘電', '率', '分布'], ['推定'], ['マイクロ', '波'], ['誘電', '体', '円柱'], ['誘電', '率', '推定'], ['MATLAB', 'ニューラル', 'ネットワーク'], ['検証'], ['九', '産', '大', '12', '号', '館', '建物', '内'], ['侵入'], ['ローカル', '5', 'G'], ['電波', '測定']]\n"
     ]
    },
    {
     "data": {
      "text/plain": [
       "[('教材 作成', np.float64(3.4641016151377544)),\n",
       " ('層状 媒質', np.float64(3.4641016151377544)),\n",
       " ('誘電 率 推定', np.float64(2.2894284851066637)),\n",
       " ('比 誘電 率 分布', np.float64(2.0296635898134046)),\n",
       " ('Mathematica', np.float64(2.0)),\n",
       " ('MathTeX', np.float64(2.0)),\n",
       " ('誘電 体 円柱', np.float64(2.0)),\n",
       " ('連立 一 次 方程 式 求 解', np.float64(1.919471219577405)),\n",
       " ('4 次', np.float64(1.8612097182041991)),\n",
       " ('行列 式', np.float64(1.8612097182041991)),\n",
       " ('九 産 大 12 号 館 建物 内', np.float64(1.8340080864093424)),\n",
       " ('1 次元 FDTD 法 解析', np.float64(1.7411011265922482)),\n",
       " ('MATLAB ニューラル ネットワーク', np.float64(1.5874010519681994)),\n",
       " ('ローカル 5 G', np.float64(1.5874010519681994)),\n",
       " ('反射 波', np.float64(1.5650845800732873)),\n",
       " ('マイクロ 波', np.float64(1.5650845800732873)),\n",
       " ('線形 代数', np.float64(1.4142135623730951)),\n",
       " ('微分 積分', np.float64(1.4142135623730951)),\n",
       " ('合成 関数', np.float64(1.4142135623730951)),\n",
       " ('微分', np.float64(1.4142135623730951))]"
      ]
     },
     "execution_count": 7,
     "metadata": {},
     "output_type": "execute_result"
    }
   ],
   "source": [
    "text ='。'.join(r04_ishida)\n",
    "tok = MeCabTokenizer() \n",
    "compound_nouns = []\n",
    "for sentence in text.splitlines():\n",
    "    tokens = tok.iter_token(sentence)\n",
    "    nouns = tok.extract_nouns(tokens)\n",
    "    print(nouns)\n",
    "    if len(nouns) > 0 :\n",
    "        compound_nouns.extend(nouns)\n",
    "\n",
    "lr = LRValue()\n",
    "lr_values = lr.fit_transform(compound_nouns)\n",
    "lr_values = [(k,v) for k,v in lr_values.items() if v>0]\n",
    "data_collection = sorted(lr_values, key=lambda x:x[1], reverse=True)\n",
    "list(data_collection[:20])"
   ]
  },
  {
   "cell_type": "code",
   "execution_count": null,
   "id": "9d2b9613-f2ef-4b03-a646-fc3296271af4",
   "metadata": {},
   "outputs": [],
   "source": []
  },
  {
   "cell_type": "code",
   "execution_count": null,
   "id": "88558437-bfb5-43aa-8ead-e562916b2d38",
   "metadata": {},
   "outputs": [],
   "source": []
  }
 ],
 "metadata": {
  "kernelspec": {
   "display_name": "Python 3 (ipykernel)",
   "language": "python",
   "name": "python3"
  },
  "language_info": {
   "codemirror_mode": {
    "name": "ipython",
    "version": 3
   },
   "file_extension": ".py",
   "mimetype": "text/x-python",
   "name": "python",
   "nbconvert_exporter": "python",
   "pygments_lexer": "ipython3",
   "version": "3.10.8"
  }
 },
 "nbformat": 4,
 "nbformat_minor": 5
}
