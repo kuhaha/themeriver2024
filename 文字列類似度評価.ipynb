{
 "cells": [
  {
   "cell_type": "code",
   "execution_count": 1,
   "id": "f493173e-0068-4734-9b3d-3aab7a93196d",
   "metadata": {},
   "outputs": [],
   "source": [
    "\"\"\"pip install Levenshtein\n",
    "cf. https://rapidfuzz.github.io/Levenshtein/\n",
    "- `distance`, calculates the min. # of insertions, deletions, and substitutions \n",
    "  @params: s1, s2, weights, processor, score_cutoff, score_hint \n",
    "- `ratio`, calculates a normalized indel(insertions/deletions) similarity in the range [0, 1]. \n",
    "  @params: s1, s2, processor, score_cutoff\n",
    "\"\"\"\n",
    "import Levenshtein\n",
    "\n",
    "\"\"\"pip install pylcs\n",
    "cf.  https://pypi.org/project/pylcs/\n",
    "pylcs is a super fast c++ library which adopts dynamic programming(DP) algorithm to \n",
    "solve two classic LCS problems\n",
    "- longest common subsequence, \n",
    "- longest common substring, a substring is a subsequnce without gaps\n",
    "- Levenshtein distance\n",
    "\"\"\"\n",
    "import pylcs"
   ]
  },
  {
   "cell_type": "code",
   "execution_count": 2,
   "id": "7def5cd7-6ada-47d0-b60f-e3bfe122a3b8",
   "metadata": {},
   "outputs": [
    {
     "name": "stdout",
     "output_type": "stream",
     "text": [
      "0.727\n"
     ]
    }
   ],
   "source": [
    "str1 = 'おにぎり'\n",
    "str2 = 'こんぶおにぎり'\n",
    "str3 = 'うめおにぎり'\n",
    "ratio = Levenshtein.ratio(str1, str2)\n",
    "print(f\"{ratio:.3f}\") "
   ]
  },
  {
   "cell_type": "code",
   "execution_count": 3,
   "id": "c46294f1-c5f5-45e1-a338-fd49026a6572",
   "metadata": {},
   "outputs": [],
   "source": [
    "def jaccard(a, b):\n",
    "    u = set(a).union(set(b))\n",
    "    n = set(a).intersection(set(b))\n",
    "    return len(n)/len(u)"
   ]
  },
  {
   "cell_type": "code",
   "execution_count": 4,
   "id": "f974ae35-e180-420d-ac55-e21681af9060",
   "metadata": {},
   "outputs": [
    {
     "name": "stdout",
     "output_type": "stream",
     "text": [
      "0.500, 0.250 ,0.333\n"
     ]
    }
   ],
   "source": [
    "a=[\"統計\"]\n",
    "b=[\"医学\",\"統計\"]\n",
    "c=[\"数理\",\"統計\",\"学\"]\n",
    "print(f\"{jaccard(a,b):.3f}, {jaccard(b,c):.3f} ,{jaccard(a,c):.3f}\")"
   ]
  },
  {
   "cell_type": "code",
   "execution_count": 5,
   "id": "31944afe-53f0-4522-9313-18834b78c917",
   "metadata": {},
   "outputs": [
    {
     "name": "stdout",
     "output_type": "stream",
     "text": [
      "0.667\n"
     ]
    }
   ],
   "source": [
    "ratio = Levenshtein.ratio(a, b)\n",
    "print(f\"{ratio:.3f}\")"
   ]
  },
  {
   "cell_type": "code",
   "execution_count": 6,
   "id": "421749cb-3cfd-4557-9fab-0edd14a70ee9",
   "metadata": {},
   "outputs": [
    {
     "name": "stdout",
     "output_type": "stream",
     "text": [
      "0.600\n"
     ]
    }
   ],
   "source": [
    "ratio = Levenshtein.ratio(b, c)\n",
    "print(f\"{1-ratio:.3f}\")"
   ]
  },
  {
   "cell_type": "code",
   "execution_count": 18,
   "id": "362849ef-9de4-4634-b100-8c3968a9b234",
   "metadata": {},
   "outputs": [
    {
     "data": {
      "text/plain": [
       "14"
      ]
     },
     "execution_count": 18,
     "metadata": {},
     "output_type": "execute_result"
    }
   ],
   "source": [
    "#  finding the longest common subsSEQUENCE length of string A and string B\n",
    "A = 'We are shannonai'\n",
    "B = 'We like shannonai'\n",
    "pylcs.lcs_sequence_length(A, B)"
   ]
  },
  {
   "cell_type": "code",
   "execution_count": 19,
   "id": "96d20c17-9671-4237-95a8-3e263db5c310",
   "metadata": {},
   "outputs": [
    {
     "data": {
      "text/plain": [
       "'We e shannonai'"
      ]
     },
     "execution_count": 19,
     "metadata": {},
     "output_type": "execute_result"
    }
   ],
   "source": [
    "#  finding alignment from string A to B\n",
    "res = pylcs.lcs_sequence_idx(A, B)\n",
    "''.join([B[i] for i in res if i != -1])\n"
   ]
  },
  {
   "cell_type": "code",
   "execution_count": 20,
   "id": "d2008e5b-45e6-422f-b3fa-cd14785452d8",
   "metadata": {},
   "outputs": [
    {
     "data": {
      "text/plain": [
       "11"
      ]
     },
     "execution_count": 20,
     "metadata": {},
     "output_type": "execute_result"
    }
   ],
   "source": [
    "# finding the longest common subSRING length of string A and string B\n",
    "pylcs.lcs_string_length(A, B)"
   ]
  },
  {
   "cell_type": "code",
   "execution_count": 10,
   "id": "3333f869-b210-4f69-8380-c629a04f7a8a",
   "metadata": {},
   "outputs": [
    {
     "data": {
      "text/plain": [
       "'e shannonai'"
      ]
     },
     "execution_count": 10,
     "metadata": {},
     "output_type": "execute_result"
    }
   ],
   "source": [
    "res = pylcs.lcs_string_idx(A, B)\n",
    "''.join([B[i] for i in res if i != -1])"
   ]
  },
  {
   "cell_type": "code",
   "execution_count": 11,
   "id": "1fc31a78-e281-499a-b08f-8c002e7f2241",
   "metadata": {},
   "outputs": [
    {
     "data": {
      "text/plain": [
       "2"
      ]
     },
     "execution_count": 11,
     "metadata": {},
     "output_type": "execute_result"
    }
   ],
   "source": [
    "pylcs.lcs_sequence_length(\"\".join(a), \"\".join(b))"
   ]
  },
  {
   "cell_type": "code",
   "execution_count": 12,
   "id": "5223645f-d05b-45e2-86ae-28bb5d0601cb",
   "metadata": {},
   "outputs": [
    {
     "data": {
      "text/plain": [
       "2"
      ]
     },
     "execution_count": 12,
     "metadata": {},
     "output_type": "execute_result"
    }
   ],
   "source": [
    "pylcs.lcs_sequence_length(\"\".join(b), \"\".join(c))"
   ]
  },
  {
   "cell_type": "code",
   "execution_count": 13,
   "id": "bca889a4-c56d-4792-8a4e-b029fc428b71",
   "metadata": {},
   "outputs": [
    {
     "data": {
      "text/plain": [
       "3"
      ]
     },
     "execution_count": 13,
     "metadata": {},
     "output_type": "execute_result"
    }
   ],
   "source": [
    "pylcs.lcs_sequence_length(\"人口知能\",\"人工知能\")"
   ]
  },
  {
   "cell_type": "code",
   "execution_count": 14,
   "id": "123f0c51-58c0-47d6-94df-586021369f2b",
   "metadata": {},
   "outputs": [
    {
     "name": "stdout",
     "output_type": "stream",
     "text": [
      "\u001b[38;5;4m\u001b[48;5;230mHow does this string\u001b[0m edit\u001b[38;5;4m\u001b[48;5;230m to s2?\u001b[0m\n",
      "\u001b[38;5;4m\u001b[48;5;230mHow \u001b[0msimila\u001b[38;5;4m\u001b[48;5;230mr is this string to s1?\u001b[0m\n"
     ]
    }
   ],
   "source": [
    "s1, s2 = \"How does this string edit to s2?\", \"How similar is this string to s1?\"\n",
    "match_list = pylcs.edit_distance_idx(s1, s2)\n",
    "colored_s1, colored_s2 = pylcs.coloring_match_sequence(match_list, s1, s2, 4, 4, 230, 230, t=2)\n",
    "print(colored_s1, colored_s2, sep='\\n')"
   ]
  },
  {
   "cell_type": "code",
   "execution_count": 15,
   "id": "b4e6fde7-1941-4a23-9c59-05058fdcf743",
   "metadata": {},
   "outputs": [
    {
     "data": {
      "text/plain": [
       "15"
      ]
     },
     "execution_count": 15,
     "metadata": {},
     "output_type": "execute_result"
    }
   ],
   "source": [
    "s1, s2 = \"How does this string edit to s2?\", \"How similar is this string to s1?\"\n",
    "pylcs.edit_distance(s1, s2)"
   ]
  },
  {
   "cell_type": "code",
   "execution_count": 16,
   "id": "dab1b565-c138-40be-92c6-ae2eb0bcdc6b",
   "metadata": {},
   "outputs": [
    {
     "name": "stdout",
     "output_type": "stream",
     "text": [
      "['医学', '統計'] ['数理', '統計', '学']\n"
     ]
    },
    {
     "data": {
      "text/plain": [
       "3"
      ]
     },
     "execution_count": 16,
     "metadata": {},
     "output_type": "execute_result"
    }
   ],
   "source": [
    "print(b, c)\n",
    "pylcs.edit_distance(\"\".join(b), \"\".join(c))"
   ]
  },
  {
   "cell_type": "code",
   "execution_count": 17,
   "id": "e534cb1a-66c0-4450-8345-cdf7eb98e6ec",
   "metadata": {},
   "outputs": [],
   "source": [
    "# help(pylcs)"
   ]
  },
  {
   "cell_type": "code",
   "execution_count": null,
   "id": "717a76ab-997b-4894-863c-189400ae2a70",
   "metadata": {},
   "outputs": [],
   "source": []
  }
 ],
 "metadata": {
  "kernelspec": {
   "display_name": "Python 3 (ipykernel)",
   "language": "python",
   "name": "python3"
  },
  "language_info": {
   "codemirror_mode": {
    "name": "ipython",
    "version": 3
   },
   "file_extension": ".py",
   "mimetype": "text/x-python",
   "name": "python",
   "nbconvert_exporter": "python",
   "pygments_lexer": "ipython3",
   "version": "3.9.7"
  }
 },
 "nbformat": 4,
 "nbformat_minor": 5
}
