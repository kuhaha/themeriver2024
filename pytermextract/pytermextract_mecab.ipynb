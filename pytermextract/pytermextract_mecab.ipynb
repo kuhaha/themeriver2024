{
 "cells": [
  {
   "cell_type": "code",
   "execution_count": 1,
   "id": "7c8bb5b2-70e2-4f76-956d-783539cd9410",
   "metadata": {},
   "outputs": [],
   "source": [
    "\"\"\"termextract: 専門用語（キーワード）自動抽出Pythonモジュール\n",
    "URL: http://gensen.dl.itc.u-tokyo.ac.jp/pytermextract/\n",
    "\"\"\"\n",
    "import sys\n",
    "import collections\n",
    "import dbm\n",
    "from pprint import pprint\n",
    "\n",
    "import termextract.mecab\n",
    "import termextract.core"
   ]
  },
  {
   "cell_type": "code",
   "execution_count": 2,
   "id": "07a29185-f94d-4b45-ba23-8f6ff7731cfe",
   "metadata": {},
   "outputs": [
    {
     "data": {
      "text/plain": [
       "['IGNORE_WORDS',\n",
       " 'SETSUBI',\n",
       " '__builtins__',\n",
       " '__cached__',\n",
       " '__doc__',\n",
       " '__file__',\n",
       " '__loader__',\n",
       " '__name__',\n",
       " '__package__',\n",
       " '__spec__',\n",
       " '_increase',\n",
       " 'cmp_noun_dict',\n",
       " 'cmp_noun_list',\n",
       " 're',\n",
       " 'termextract']"
      ]
     },
     "execution_count": 2,
     "metadata": {},
     "output_type": "execute_result"
    }
   ],
   "source": [
    "dir(termextract.mecab)"
   ]
  },
  {
   "cell_type": "code",
   "execution_count": 3,
   "id": "84b5dcc8-abc7-4c95-8c87-bcfdb7d6d72b",
   "metadata": {},
   "outputs": [
    {
     "name": "stdout",
     "output_type": "stream",
     "text": [
      "[('人工 知能', 477.401125619928),\n",
      " ('AI', 117.77945491468365),\n",
      " ('知能', 108.83014288330233),\n",
      " ('人間', 32.526911934581186),\n",
      " ('研究', 23.237900077244504),\n",
      " ('システム', 22.360679774997898),\n",
      " ('計算 知能', 19.934680700343144),\n",
      " ('エキスパート システム', 16.548754598234364),\n",
      " ('人工 知能 学会', 13.456666729201407),\n",
      " ('手法', 12.727922061357857),\n",
      " ('学習', 12.727922061357855),\n",
      " ('コンピュータ', 12.24744871391589),\n",
      " ('可能 性', 10.893079261326001),\n",
      " ('意識', 9.899494936611665),\n",
      " ('人工', 9.695359714832659),\n",
      " ('哲学', 9.0),\n",
      " ('ロボット', 9.0),\n",
      " ('機械 式 計算 機', 8.711754349385725),\n",
      " ('機械', 8.0),\n",
      " ('人工 知能 技術', 7.92323048714177),\n",
      " ('制御 システム', 7.871958685061721),\n",
      " ('AI プログラム', 7.4448388728167965),\n",
      " ('人工 知能 研究所', 7.0587958845250585),\n",
      " ('脳', 6.928203230275509),\n",
      " ('事例', 6.928203230275509),\n",
      " ('開発', 6.928203230275509),\n",
      " ('人工 知能 自体', 6.2886722051376776),\n",
      " ('軍事 利用', 6.0),\n",
      " ('プログラム', 6.0),\n",
      " ('ロボット 向け 人工 知能', 5.699388759622379),\n",
      " ('戦闘', 5.656854249492381),\n",
      " ('AI システム', 5.566315367427481),\n",
      " ('自動 化', 5.566315367427481),\n",
      " ('戦闘 機', 5.566315367427481),\n",
      " ('計算 機', 5.477225575051661),\n",
      " ('計算', 5.477225575051661),\n",
      " ('ファジィ 制御', 5.2642960518099695),\n",
      " ('機械 類', 5.2642960518099695),\n",
      " ('理論', 5.196152422706632),\n",
      " ('映画', 5.196152422706632),\n",
      " ('AI 研究', 5.180040128222703),\n",
      " ('研究 チーム', 5.180040128222703),\n",
      " ('記号 的 AI', 5.139593173701301),\n",
      " ('群 知能', 5.06473204392506),\n",
      " ('ニューラルネットワーク', 5.0),\n",
      " ('最初', 5.0),\n",
      " ('著書', 5.0),\n",
      " ('プログラミング 言語 LISP', 4.803747820704011),\n",
      " ('戦闘 機 操縦 用', 4.5153660912671825),\n",
      " ('自動 戦闘 システム', 4.44181230970465)]\n"
     ]
    }
   ],
   "source": [
    "# LR importance\n",
    "path =\"test_data/mecab_out_sample.txt\"\n",
    "with open(path) as f:\n",
    "    tagged_text=f.read()\n",
    "    frequency = termextract.mecab.cmp_noun_dict(tagged_text)\n",
    "    #term_list = termextract.mecab.cmp_noun_list(tagged_text)\n",
    "    lr = termextract.core.score_lr(\n",
    "        frequency,\n",
    "        ignore_words=termextract.mecab.IGNORE_WORDS,\n",
    "        lr_mode=1, \n",
    "        average_rate=1\n",
    "    )\n",
    "    term_imp = termextract.core.term_importance(frequency, lr)\n",
    "    sorted_imp = sorted(term_imp.items(), key=lambda x:x[1], reverse=True)\n",
    "    pprint(sorted_imp[:50])"
   ]
  },
  {
   "cell_type": "code",
   "execution_count": 4,
   "id": "9062a2df-924c-4521-9890-fba877cdd6d8",
   "metadata": {},
   "outputs": [
    {
     "name": "stdout",
     "output_type": "stream",
     "text": [
      "[('人工 知能', 222.77075117587975),\n",
      " ('人間', 111.20413751658661),\n",
      " ('AI', 104.66184586193918),\n",
      " ('手法', 32.14735285398626),\n",
      " ('知能', 24.79647402923078),\n",
      " ('研究', 24.19352510458519),\n",
      " ('意識', 22.75),\n",
      " ('システム', 20.488186669658667),\n",
      " ('エキスパート システム', 17.24503344094913),\n",
      " ('コンピュータ', 16.81641667147438),\n",
      " ('ニューラルネットワーク', 12.92481250360578),\n",
      " ('最初', 12.92481250360578),\n",
      " ('著書', 12.92481250360578),\n",
      " ('可能 性', 11.953554483114294),\n",
      " ('学習', 10.816165626622603),\n",
      " ('脳', 10.344354046696887),\n",
      " ('開発', 10.344354046696887),\n",
      " ('事例', 10.06766238051099),\n",
      " ('実現', 9.287712379549449),\n",
      " (']。', 9.287712379549449),\n",
      " ('哲学', 9.169925001442312),\n",
      " ('ロボット', 9.169925001442312),\n",
      " ('理論', 7.584962500721155),\n",
      " ('映画', 7.584962500721155),\n",
      " ('プログラム', 7.5),\n",
      " ('軍事 利用', 6.75),\n",
      " ('学派', 6.0),\n",
      " ('歴史', 6.0),\n",
      " ('ジョン', 6.0),\n",
      " ('記述', 6.0),\n",
      " ('アプローチ', 6.0),\n",
      " ('日本', 6.0),\n",
      " ('特徴', 6.0),\n",
      " ('成果', 6.0),\n",
      " ('考え方', 6.0),\n",
      " ('肉体', 6.0),\n",
      " ('HAL', 6.0),\n",
      " ('シリーズ', 6.0),\n",
      " ('計算 知能', 5.671468137903003),\n",
      " ('AI プログラム', 5.6565791683493645),\n",
      " ('機械', 5.544925001442313),\n",
      " ('制御 システム', 5.446760251439748),\n",
      " ('機械 式 計算 機', 5.294457647483419),\n",
      " ('記号 的 AI', 5.068797223985048),\n",
      " ('研究 チーム', 4.658984680269099),\n",
      " ('人工 知能 学会', 4.650862687197906),\n",
      " ('機械 類', 4.621585418229172),\n",
      " ('自動 化', 4.579298120660171),\n",
      " ('ファジィ 制御', 4.434085418229173),\n",
      " ('宇宙', 4.169925001442313)]\n"
     ]
    }
   ],
   "source": [
    "# Perplexity importance\n",
    "path =\"test_data/mecab_out_sample.txt\"\n",
    "with open(path) as f:\n",
    "    tagged_text=f.read()\n",
    "    frequency = termextract.mecab.cmp_noun_dict(tagged_text)\n",
    "    #term_list = termextract.mecab.cmp_noun_list(tagged_text)\n",
    "    pp = termextract.core.score_pp(\n",
    "        frequency,\n",
    "        ignore_words=termextract.mecab.IGNORE_WORDS,\n",
    "        # lr_mode=1, \n",
    "        average_rate=1\n",
    "    )    \n",
    "    term_imp = termextract.core.term_importance(frequency, pp)\n",
    "    sorted_imp = sorted(term_imp.items(), key=lambda x:x[1], reverse=True)\n",
    "    pprint(sorted_imp[:50])"
   ]
  },
  {
   "cell_type": "code",
   "execution_count": null,
   "id": "373c70ac-8a01-4db9-aa34-f09058a8c246",
   "metadata": {},
   "outputs": [],
   "source": []
  }
 ],
 "metadata": {
  "kernelspec": {
   "display_name": "Python 3 (ipykernel)",
   "language": "python",
   "name": "python3"
  },
  "language_info": {
   "codemirror_mode": {
    "name": "ipython",
    "version": 3
   },
   "file_extension": ".py",
   "mimetype": "text/x-python",
   "name": "python",
   "nbconvert_exporter": "python",
   "pygments_lexer": "ipython3",
   "version": "3.9.7"
  }
 },
 "nbformat": 4,
 "nbformat_minor": 5
}
