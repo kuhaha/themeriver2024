{
 "cells": [
  {
   "cell_type": "code",
   "execution_count": 1,
   "id": "161af0f6",
   "metadata": {
    "scrolled": true
   },
   "outputs": [],
   "source": [
    "import ginza # pip install -U ginza ja_ginza\n",
    "import nltk  # pip install nltk\n",
    "import spacy # pip install nltk\n",
    "import pke   # pip install git+https://github.com/boudinfl/pke.git\n",
    "import pandas as pd"
   ]
  },
  {
   "cell_type": "code",
   "execution_count": 2,
   "id": "d4c6d043",
   "metadata": {
    "scrolled": true
   },
   "outputs": [
    {
     "data": {
      "text/html": [
       "<div>\n",
       "<style scoped>\n",
       "    .dataframe tbody tr th:only-of-type {\n",
       "        vertical-align: middle;\n",
       "    }\n",
       "\n",
       "    .dataframe tbody tr th {\n",
       "        vertical-align: top;\n",
       "    }\n",
       "\n",
       "    .dataframe thead th {\n",
       "        text-align: right;\n",
       "    }\n",
       "</style>\n",
       "<table border=\"1\" class=\"dataframe\">\n",
       "  <thead>\n",
       "    <tr style=\"text-align: right;\">\n",
       "      <th></th>\n",
       "      <th>年度</th>\n",
       "      <th>学科／研究科</th>\n",
       "      <th>研究室</th>\n",
       "      <th>学籍番号</th>\n",
       "      <th>賞</th>\n",
       "      <th>氏名</th>\n",
       "      <th>要旨</th>\n",
       "      <th>題目</th>\n",
       "    </tr>\n",
       "  </thead>\n",
       "  <tbody>\n",
       "    <tr>\n",
       "      <th>0</th>\n",
       "      <td>H17</td>\n",
       "      <td>情報科学科</td>\n",
       "      <td>相研</td>\n",
       "      <td>NaN</td>\n",
       "      <td>NaN</td>\n",
       "      <td>NaN</td>\n",
       "      <td>NaN</td>\n",
       "      <td>WEBページにおけるユーザビリティの追及</td>\n",
       "    </tr>\n",
       "    <tr>\n",
       "      <th>1</th>\n",
       "      <td>H17</td>\n",
       "      <td>情報科学科</td>\n",
       "      <td>松永研</td>\n",
       "      <td>NaN</td>\n",
       "      <td>NaN</td>\n",
       "      <td>NaN</td>\n",
       "      <td>NaN</td>\n",
       "      <td>安全運転管理教育システム(ASSIST)における複数カメラ使用での交通事故防止対策</td>\n",
       "    </tr>\n",
       "    <tr>\n",
       "      <th>2</th>\n",
       "      <td>H17</td>\n",
       "      <td>情報科学科</td>\n",
       "      <td>宮崎研</td>\n",
       "      <td>NaN</td>\n",
       "      <td>NaN</td>\n",
       "      <td>NaN</td>\n",
       "      <td>NaN</td>\n",
       "      <td>電子透かしの体制に関する検討 -加重平均フィルタ・メディアンフィルタの場合-</td>\n",
       "    </tr>\n",
       "    <tr>\n",
       "      <th>3</th>\n",
       "      <td>H17</td>\n",
       "      <td>情報科学科</td>\n",
       "      <td>成研</td>\n",
       "      <td>NaN</td>\n",
       "      <td>NaN</td>\n",
       "      <td>NaN</td>\n",
       "      <td>NaN</td>\n",
       "      <td>対面教育を支援するためのウェブ助言システム</td>\n",
       "    </tr>\n",
       "    <tr>\n",
       "      <th>4</th>\n",
       "      <td>H17</td>\n",
       "      <td>情報科学科</td>\n",
       "      <td>石田健研</td>\n",
       "      <td>NaN</td>\n",
       "      <td>NaN</td>\n",
       "      <td>NaN</td>\n",
       "      <td>NaN</td>\n",
       "      <td>衛星通信検討のための気象データの解析-2002年のデータ解析-</td>\n",
       "    </tr>\n",
       "  </tbody>\n",
       "</table>\n",
       "</div>"
      ],
      "text/plain": [
       "    年度 学科／研究科   研究室  学籍番号   賞  氏名   要旨  \\\n",
       "0  H17  情報科学科    相研   NaN NaN NaN  NaN   \n",
       "1  H17  情報科学科   松永研   NaN NaN NaN  NaN   \n",
       "2  H17  情報科学科   宮崎研   NaN NaN NaN  NaN   \n",
       "3  H17  情報科学科    成研   NaN NaN NaN  NaN   \n",
       "4  H17  情報科学科  石田健研   NaN NaN NaN  NaN   \n",
       "\n",
       "                                          題目  \n",
       "0                       WEBページにおけるユーザビリティの追及  \n",
       "1  安全運転管理教育システム(ASSIST)における複数カメラ使用での交通事故防止対策  \n",
       "2     電子透かしの体制に関する検討 -加重平均フィルタ・メディアンフィルタの場合-  \n",
       "3                      対面教育を支援するためのウェブ助言システム  \n",
       "4            衛星通信検討のための気象データの解析-2002年のデータ解析-  "
      ]
     },
     "execution_count": 2,
     "metadata": {},
     "output_type": "execute_result"
    }
   ],
   "source": [
    "df = pd.read_csv('datasets/bachelor_themes.csv')\n",
    "df.head()"
   ]
  },
  {
   "cell_type": "code",
   "execution_count": 3,
   "id": "73ff43ff",
   "metadata": {
    "scrolled": true
   },
   "outputs": [],
   "source": [
    "pke.lang.stopwords['ja_ginza'] = 'ja'\n",
    "def get_key_phrase(spacy_model, text, n = 5, stopwords=None):\n",
    "    \"\"\"キーフレーズ処理\n",
    "\n",
    "    Args:\n",
    "        text ([type]): キーフレーズ対象の文字列\n",
    "        n (int, optional): [description]. Defaults to 10.\n",
    "    Returns:\n",
    "        [type]: [description]\n",
    "    \"\"\"\n",
    "    #MultipartiteRankなどのキーフレーズの手法については以下のサイトが参考になります\n",
    "    #https://www.ogis-ri.co.jp/otc/hiroba/technical/similar-document-search/part5.html\n",
    "    extractor = pke.unsupervised.MultipartiteRank()\n",
    "    extractor.load_document(input=text, language='ja', normalization=None, stoplist=stopwords)\n",
    "    extractor.candidate_selection( pos={'NOUN', 'PROPN', 'ADJ', 'NUM'})\n",
    "    extractor.candidate_weighting(threshold=0.10, method='average', alpha=1.1)\n",
    "    key_phrase = extractor.get_n_best(n)\n",
    "    \n",
    "    return  key_phrase"
   ]
  },
  {
   "cell_type": "code",
   "execution_count": 4,
   "id": "e26acd58",
   "metadata": {},
   "outputs": [
    {
     "name": "stdout",
     "output_type": "stream",
     "text": [
      "['せ', 'いる', 'ぶり', 'すぐ', 'あるいは', 'なお', 'きっかけ', 'ごと', 'つつ', 'それ']\n"
     ]
    }
   ],
   "source": [
    "from  spacy.lang.ja import stop_words\n",
    "spacy_model = spacy.load(\"ja_ginza\")  # GiNZAモデルの読み込み\n",
    "stopwords = list(stop_words.STOP_WORDS)\n",
    "print(stopwords[-10:])\n",
    "nltk.corpus.stopwords.words = stopwords"
   ]
  },
  {
   "cell_type": "code",
   "execution_count": 5,
   "id": "5092b11b",
   "metadata": {},
   "outputs": [
    {
     "data": {
      "text/plain": [
       "[('加重平均 フィルタ', 0.42130324238360667),\n",
       " ('メディアン フィルタ', 0.39338731541367405),\n",
       " ('電子 透かし', 0.18530944220271967)]"
      ]
     },
     "execution_count": 5,
     "metadata": {},
     "output_type": "execute_result"
    }
   ],
   "source": [
    "get_key_phrase(spacy_model,u\"電子透かしの体制に関する検討 -加重平均フィルタ・メディアンフィルタの場合\",stopwords=stopwords)"
   ]
  },
  {
   "cell_type": "code",
   "execution_count": 6,
   "id": "5ccad878-adc1-437a-8cf4-185ec90677e4",
   "metadata": {},
   "outputs": [
    {
     "data": {
      "text/plain": [
       "[('判断 能力 測定 ドライビング シミュレータ', 1.0)]"
      ]
     },
     "execution_count": 6,
     "metadata": {},
     "output_type": "execute_result"
    }
   ],
   "source": [
    "get_key_phrase(spacy_model,u\"人の反応・判断能力測定 ドライビングシミュレータ\",stopwords=stopwords)"
   ]
  },
  {
   "cell_type": "code",
   "execution_count": 7,
   "id": "6b2f92ee-4f3c-4ff2-b117-2ba615483ed6",
   "metadata": {},
   "outputs": [
    {
     "name": "stdout",
     "output_type": "stream",
     "text": [
      "WEBページにおけるユーザビリティの追及\n",
      "[('webページ', 0.5), ('ユーザビリティ', 0.5)]\n",
      "**********\n",
      "安全運転管理教育システム(ASSIST)における複数カメラ使用での交通事故防止対策\n",
      "[('assist', 0.28706225950104136),\n",
      " ('安全 運転 管理 教育 システム', 0.2624476088748522),\n",
      " ('複数 カメラ 使用', 0.2515057737576961),\n",
      " ('交通事故 防止 対策', 0.19898435786641003)]\n",
      "**********\n",
      "電子透かしの体制に関する検討 -加重平均フィルタ・メディアンフィルタの場合-\n",
      "[('加重平均 フィルタ', 0.42130324238360667),\n",
      " ('メディアン フィルタ', 0.39338731541367405),\n",
      " ('電子 透かし', 0.18530944220271967)]\n",
      "**********\n",
      "対面教育を支援するためのウェブ助言システム\n",
      "[('対面 教育', 0.5), ('ウェブ 助言 システム', 0.5)]\n",
      "**********\n",
      "衛星通信検討のための気象データの解析-2002年のデータ解析-\n",
      "[('気象 データ', 0.40455778257937486),\n",
      " ('衛星 通信 検討', 0.3467191085775726),\n",
      " ('データ 解析', 0.24872310884305232)]\n",
      "**********\n",
      "手書き漢字認識装置の性能調査\n",
      "[('手書き 漢字 認識 装置', 0.5), ('性能 調査', 0.5)]\n",
      "**********\n",
      "生化学反応シミュレータの比較評価\n",
      "[('生化学 反応 シミュレータ', 0.5), ('比較 評価', 0.5)]\n",
      "**********\n",
      "FPGAを搭載したロボット教材のためのIPとしてKUE-CHIP2の検討\n",
      "[('ロボット 教材', 0.4023301515526182),\n",
      " ('fpga', 0.34007062296461077),\n",
      " ('kue', 0.2575992254827705)]\n",
      "**********\n",
      "手の輪郭を用いた生体認証に関する研究\n",
      "[('生体 認証', 1.0)]\n",
      "**********\n",
      "重畳積文法によるX線CTの画像再構成-Shepp-Loganのフィルタ関数の適用-\n",
      "[('shepp', 0.41105202145790726),\n",
      " ('logan', 0.38598246490344823),\n",
      " ('x線 ct', 0.20296551363864446)]\n",
      "**********\n",
      "空港における目的地への交通手段検索システムの開発\n",
      "[('目的地', 0.5), ('交通手段 検索 システム', 0.5)]\n",
      "**********\n",
      "人の反応・判断能力測定用ドライビングシミュレータ\n",
      "[]\n",
      "**********\n",
      "拡張現実感のための実物体の奥行きを考慮した陰面消去\n",
      "[('拡張 現実感', 0.5), ('奥行き', 0.5)]\n",
      "**********\n",
      "衛星通信検討のための気象データの解析-2001年のデータ解析-\n",
      "[('気象 データ', 0.40455778257937486),\n",
      " ('衛星 通信 検討', 0.3467191085775726),\n",
      " ('データ 解析', 0.24872310884305232)]\n",
      "**********\n",
      "安全運転管理教育システム(ASSIST)における通信方法の研究\n",
      "[('assist', 0.40626653779334115),\n",
      " ('安全 運転 管理 教育 システム', 0.3743569582973748),\n",
      " ('通信 方法', 0.2193765039092841)]\n",
      "**********\n",
      "問題及び選択肢をランダムに並び替えるCBTシステム\n",
      "[('ランダム', 0.3962987032710889),\n",
      " ('選択肢', 0.33709389818085356),\n",
      " ('cbt システム', 0.26660739854805765)]\n",
      "**********\n",
      "RFID導入におけるプライバシー問題とセキュリティ問題\n",
      "[('プライバシー 問題', 0.4111894277167934),\n",
      " ('セキュリティ 問題', 0.3552112915082347),\n",
      " ('rfid 導入', 0.23359928077497166)]\n",
      "**********\n",
      "電力計測に基づく省エネルギー対策の立案\n",
      "[('電力 計測', 0.5), ('省エネルギー 対策', 0.5)]\n",
      "**********\n",
      "動画像通信システムの運用技術\n",
      "[('運用 技術', 1.0)]\n",
      "**********\n",
      "組み合わせ最適化問題に対するメタヒューリスティクスの実験的解析(1)局所探索系手法の適応-基本的性能評価-\n",
      "[('メタヒューリスティクス', 0.3459374562007135),\n",
      " ('実験的 解析', 0.30663668145943335),\n",
      " ('組み合わせ 最適化 問題', 0.2367614769131511),\n",
      " ('基本的 性能 評価', 0.11066438542670207)]\n",
      "**********\n",
      "小規模小売店用グループウェアの開発\n",
      "[]\n",
      "**********\n",
      "サーバ選択機構における有効な選択ポリシー\n",
      "[('サーバ 選択 機構', 0.5), ('選択 ポリシー', 0.5)]\n",
      "**********\n",
      "遺伝的アルゴリズムを用いた二次元図形の抽出とジグソーパズルへの応用\n",
      "[('アルゴリズム', 0.5), ('ジグソーパズル', 0.5)]\n",
      "**********\n",
      "立体視のできるドライビングシミュレータに関する研究\n",
      "[('立体視', 0.5), ('ドライビング シミュレータ', 0.5)]\n",
      "**********\n",
      "RSSを容易に作成するWebサイトの開発\n",
      "[('rss', 0.5), ('webサイト', 0.5)]\n",
      "**********\n",
      "OCR機能を用いたマークシート読み取り\n",
      "[('ocr 機能', 0.5), ('マークシート 読み取り', 0.5)]\n",
      "**********\n",
      "位置依存モバイルコンピューティングシミュレーション環境の構築\n",
      "[]\n",
      "**********\n",
      "ビデオカメラによる距離計測に関する研究\n",
      "[('ビデオカメラ', 0.5), ('距離 計測', 0.5)]\n",
      "**********\n",
      "非同期型P2Pグリッドコンピューティングの設計に関する研究\n",
      "[]\n",
      "**********\n",
      "VBによる風景写真からの交通標識の抽出\n",
      "[('風景 写真', 0.5), ('交通 標識', 0.5)]\n",
      "**********\n"
     ]
    }
   ],
   "source": [
    "from pprint import pprint\n",
    "titles =  [t[0] for t in df.loc[:,['題目']].values]\n",
    "for text in titles[:30]:\n",
    "    kp = get_key_phrase(spacy_model,text, stopwords=stopwords)\n",
    "    print(text)\n",
    "    pprint(kp)\n",
    "    print(\"*\"*10)"
   ]
  },
  {
   "cell_type": "code",
   "execution_count": null,
   "id": "712d93b1-645d-4b93-89f8-142b52227353",
   "metadata": {},
   "outputs": [],
   "source": []
  }
 ],
 "metadata": {
  "kernelspec": {
   "display_name": "Python 3 (ipykernel)",
   "language": "python",
   "name": "python3"
  },
  "language_info": {
   "codemirror_mode": {
    "name": "ipython",
    "version": 3
   },
   "file_extension": ".py",
   "mimetype": "text/x-python",
   "name": "python",
   "nbconvert_exporter": "python",
   "pygments_lexer": "ipython3",
   "version": "3.9.7"
  }
 },
 "nbformat": 4,
 "nbformat_minor": 5
}
