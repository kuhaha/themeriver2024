{
 "cells": [
  {
   "cell_type": "code",
   "execution_count": 6,
   "id": "161af0f6",
   "metadata": {
    "scrolled": true
   },
   "outputs": [],
   "source": [
    "\"\"\"\n",
    "生体医工学可視化（WordCloud + Termextract）\n",
    "requirements:\n",
    " pip install pandas janome nlpplot matplotlib plotly\n",
    "\"\"\"\n",
    "import pandas as pd\n",
    "import nlplot\n",
    "import plotly\n",
    "from plotly.subplots import make_subplots\n",
    "from plotly.offline import iplot\n",
    "import matplotlib.pyplot as plt\n",
    "from pprint import pprint\n",
    "\n",
    "from termextract import LRValue\n",
    "from termextract.preprocessing import MeCabTokenizer"
   ]
  },
  {
   "cell_type": "code",
   "execution_count": 7,
   "id": "d4c6d043",
   "metadata": {
    "scrolled": true
   },
   "outputs": [
    {
     "data": {
      "text/html": [
       "<div>\n",
       "<style scoped>\n",
       "    .dataframe tbody tr th:only-of-type {\n",
       "        vertical-align: middle;\n",
       "    }\n",
       "\n",
       "    .dataframe tbody tr th {\n",
       "        vertical-align: top;\n",
       "    }\n",
       "\n",
       "    .dataframe thead th {\n",
       "        text-align: right;\n",
       "    }\n",
       "</style>\n",
       "<table border=\"1\" class=\"dataframe\">\n",
       "  <thead>\n",
       "    <tr style=\"text-align: right;\">\n",
       "      <th></th>\n",
       "      <th>No</th>\n",
       "      <th>Title</th>\n",
       "      <th>Author</th>\n",
       "      <th>Journal</th>\n",
       "      <th>Vol</th>\n",
       "      <th>No.1</th>\n",
       "      <th>Pages</th>\n",
       "      <th>Published_Year</th>\n",
       "    </tr>\n",
       "  </thead>\n",
       "  <tbody>\n",
       "    <tr>\n",
       "      <th>0</th>\n",
       "      <td>0</td>\n",
       "      <td>リレー随筆他</td>\n",
       "      <td>NaN</td>\n",
       "      <td>生体医工学</td>\n",
       "      <td>43</td>\n",
       "      <td>4</td>\n",
       "      <td>800-802</td>\n",
       "      <td>2005</td>\n",
       "    </tr>\n",
       "    <tr>\n",
       "      <th>1</th>\n",
       "      <td>1</td>\n",
       "      <td>高齢者の使用を考慮した引戸の操作性の計測・評価のための実物大実験装置の開発と評価</td>\n",
       "      <td>田中 眞二, 前川 陽, 奥野 竜平, 赤澤 堅造</td>\n",
       "      <td>生体医工学</td>\n",
       "      <td>43</td>\n",
       "      <td>4</td>\n",
       "      <td>795-799</td>\n",
       "      <td>2005</td>\n",
       "    </tr>\n",
       "    <tr>\n",
       "      <th>2</th>\n",
       "      <td>2</td>\n",
       "      <td>足指マウス開発にむけての基礎的検討―母指の運動特性―</td>\n",
       "      <td>田中 則子, 上田 知生, 中尾 恵, 佐藤 哲大, 湊 小太郎, 吉田 正樹, 纐纈 和美</td>\n",
       "      <td>生体医工学</td>\n",
       "      <td>43</td>\n",
       "      <td>4</td>\n",
       "      <td>790-794</td>\n",
       "      <td>2005</td>\n",
       "    </tr>\n",
       "    <tr>\n",
       "      <th>3</th>\n",
       "      <td>3</td>\n",
       "      <td>血液検査用マイクロ流体デバイスの作製</td>\n",
       "      <td>寺田 信幸, 山田 博之, 吉田 善一</td>\n",
       "      <td>生体医工学</td>\n",
       "      <td>43</td>\n",
       "      <td>4</td>\n",
       "      <td>785-789</td>\n",
       "      <td>2005</td>\n",
       "    </tr>\n",
       "    <tr>\n",
       "      <th>4</th>\n",
       "      <td>4</td>\n",
       "      <td>複数皮質活動の動的イメージングのためのfMRI-MEG統合解析法</td>\n",
       "      <td>隠浪 康行, 小林 哲生, 鄭 址旭, 大橋 俊平, 濱田 昌司, 長峯 隆, 福山 秀直,...</td>\n",
       "      <td>生体医工学</td>\n",
       "      <td>43</td>\n",
       "      <td>4</td>\n",
       "      <td>777-784</td>\n",
       "      <td>2005</td>\n",
       "    </tr>\n",
       "  </tbody>\n",
       "</table>\n",
       "</div>"
      ],
      "text/plain": [
       "   No                                     Title  \\\n",
       "0   0                                    リレー随筆他   \n",
       "1   1  高齢者の使用を考慮した引戸の操作性の計測・評価のための実物大実験装置の開発と評価   \n",
       "2   2                足指マウス開発にむけての基礎的検討―母指の運動特性―   \n",
       "3   3                        血液検査用マイクロ流体デバイスの作製   \n",
       "4   4          複数皮質活動の動的イメージングのためのfMRI-MEG統合解析法   \n",
       "\n",
       "                                              Author Journal Vol No.1  \\\n",
       "0                                                NaN   生体医工学  43    4   \n",
       "1                          田中 眞二, 前川 陽, 奥野 竜平, 赤澤 堅造   生体医工学  43    4   \n",
       "2     田中 則子, 上田 知生, 中尾 恵, 佐藤 哲大, 湊 小太郎, 吉田 正樹, 纐纈 和美   生体医工学  43    4   \n",
       "3                                寺田 信幸, 山田 博之, 吉田 善一   生体医工学  43    4   \n",
       "4  隠浪 康行, 小林 哲生, 鄭 址旭, 大橋 俊平, 濱田 昌司, 長峯 隆, 福山 秀直,...   生体医工学  43    4   \n",
       "\n",
       "     Pages  Published_Year  \n",
       "0  800-802            2005  \n",
       "1  795-799            2005  \n",
       "2  790-794            2005  \n",
       "3  785-789            2005  \n",
       "4  777-784            2005  "
      ]
     },
     "execution_count": 7,
     "metadata": {},
     "output_type": "execute_result"
    }
   ],
   "source": [
    "file_path = \"datasets/生体医工学会論文5755件.csv\"\n",
    "df = pd.read_csv(file_path,encoding='utf-8')\n",
    "df.head()"
   ]
  },
  {
   "cell_type": "code",
   "execution_count": 8,
   "id": "b552134c-9c53-4d6c-a1d0-eac4f6ff24a1",
   "metadata": {},
   "outputs": [
    {
     "data": {
      "text/plain": [
       "array([2005, 2006, 2007, 2008, 2009, 2010, 2011, 2012, 2013, 2014, 2015,\n",
       "       2016, 2017, 2018, 2019, 2020, 2021, 2022, 2023])"
      ]
     },
     "execution_count": 8,
     "metadata": {},
     "output_type": "execute_result"
    }
   ],
   "source": [
    "df[\"Published_Year\"].unique()"
   ]
  },
  {
   "cell_type": "code",
   "execution_count": 9,
   "id": "a1820e9e",
   "metadata": {
    "scrolled": true
   },
   "outputs": [
    {
     "name": "stdout",
     "output_type": "stream",
     "text": [
      "19\n"
     ]
    }
   ],
   "source": [
    "years= df[\"Published_Year\"].unique().tolist()\n",
    "n_years = len(years) # 19年間\n",
    "print(n_years)"
   ]
  },
  {
   "cell_type": "code",
   "execution_count": 10,
   "id": "78e33575",
   "metadata": {
    "scrolled": true
   },
   "outputs": [
    {
     "name": "stdout",
     "output_type": "stream",
     "text": [
      "array([['リレー随筆他'],\n",
      "       ['高齢者の使用を考慮した引戸の操作性の計測・評価のための実物大実験装置の開発と評価'],\n",
      "       ['足指マウス開発にむけての基礎的検討―母指の運動特性―'],\n",
      "       ['血液検査用マイクロ流体デバイスの作製'],\n",
      "       ['複数皮質活動の動的イメージングのためのfMRI-MEG統合解析法'],\n",
      "       ['低侵襲心臓外科手術用リアルタイム三次元超音波Integral Videography'],\n",
      "       ['業務スケジューリングからみた看護業務属性の検討'],\n",
      "       ['指タップ加速度計側システムの開発とパーキンソン病診断支援への応用'],\n",
      "       ['パラレルワイヤ駆動システムと繰返し学習制御を用いた生体部位の他動的軌道追従の実験的検証'],\n",
      "       ['LAMP法と導電性中空糸膜を利用したウイルス検査法におけるウシ血清個体差の影響']], dtype=object)\n"
     ]
    }
   ],
   "source": [
    "y1, y2 = 2005, 2007\n",
    "df1 = df[(df['Published_Year']>=y1) & (df['Published_Year']<=y2)]\n",
    "titles =  df1.loc[:,['Title']].values\n",
    "pprint(titles[:10])"
   ]
  },
  {
   "cell_type": "code",
   "execution_count": 12,
   "id": "711508bc-1c96-4bfd-a4ab-4459a7a8c85a",
   "metadata": {},
   "outputs": [],
   "source": [
    "docs = {}\n",
    "for y in years:\n",
    "    docs[y] = df[(df['Published_Year']==y)]['Title'].values.tolist()"
   ]
  },
  {
   "cell_type": "code",
   "execution_count": 13,
   "id": "6c017174-9e39-481f-9b47-d6ae8167d014",
   "metadata": {},
   "outputs": [
    {
     "name": "stderr",
     "output_type": "stream",
     "text": [
      "/tmp/working/notebooks/theme_river/termextract/termextract.py:53: RuntimeWarning:\n",
      "\n",
      "invalid value encountered in power\n",
      "\n"
     ]
    },
    {
     "data": {
      "text/plain": [
       "[('性', 104.69479452198185),\n",
       " ('計測', 79.87490219086344),\n",
       " ('画像 計測', 71.09330215402213),\n",
       " ('機能 計測', 69.24706411841348),\n",
       " ('細胞', 67.6904720030818),\n",
       " ('細胞 機能', 63.74703163941054),\n",
       " ('画像', 63.2771680782255),\n",
       " ('細胞 運動', 63.15513972885417),\n",
       " ('計測 解析', 61.48471641170195),\n",
       " ('細胞 モデル', 61.25183078345497),\n",
       " ('計測 光', 60.61555494078824),\n",
       " ('光 計測', 60.61555494078824),\n",
       " ('機能', 60.03332407921454),\n",
       " ('脳 機能 計測', 59.93529742122243),\n",
       " ('生体 画像 計測', 59.754471259142555),\n",
       " ('運動 機能', 59.475913985403544),\n",
       " ('超音波 画像 計測', 59.44879840197806),\n",
       " ('運動', 58.92367945062494),\n",
       " ('生体 機能 計測', 58.715422927581805),\n",
       " ('生体 計測', 58.06736174869173),\n",
       " ('画像 刺激', 57.19700083997363),\n",
       " ('刺激 画像', 57.19700083997363),\n",
       " ('細胞 組織', 56.689450737053555),\n",
       " ('細胞 解析', 56.60121786151975),\n",
       " ('光 脳 機能 計測', 56.098526812357065),\n",
       " ('モデル', 55.42562584220407),\n",
       " ('血管 細胞', 53.99452807653034),\n",
       " ('呼吸 機能 計測', 53.76080874400938),\n",
       " ('自動 計測', 53.56148350403636),\n",
       " ('細胞 センサ', 52.00223301501167),\n",
       " ('脳 機能', 51.918104413807754),\n",
       " ('刺激', 51.70106381884226),\n",
       " ('生体 画像', 51.68332455947415),\n",
       " ('超音波 画像', 51.287254573563295),\n",
       " ('生体 内', 51.26522490713821),\n",
       " ('モデル 解析', 51.21737396709887),\n",
       " ('呼吸 計測', 50.87477417196443),\n",
       " ('機能 的 電気 刺激', 50.432313919390225),\n",
       " ('生体 機能', 50.34114862000685),\n",
       " ('脳 機能 解析', 50.34085121066597),\n",
       " ('画像 センサ', 50.27843359570754),\n",
       " ('細胞 動態 計測', 50.08545082152334),\n",
       " ('筋 細胞', 49.71315299111155),\n",
       " ('運動 制御', 49.31878020799847),\n",
       " ('診断 用 超音波', 49.273868088768765),\n",
       " ('モデル 化', 49.261862882708684),\n",
       " ('機能 的 シミュレーション', 49.19092473669809),\n",
       " ('血管 モデル', 48.85862956939601),\n",
       " ('光 刺激', 48.767293708660354),\n",
       " ('生体 モデル', 48.37068389567339)]"
      ]
     },
     "execution_count": 13,
     "metadata": {},
     "output_type": "execute_result"
    }
   ],
   "source": [
    "tok = MeCabTokenizer() \n",
    "ignores = ['研究','開発','検討','試作','提案','紹介','展望','事例','課題',\"および\", \"評価\"]\n",
    "ignores1 = ['型']\n",
    "ignores2 = ['中','的','時','システム','用']\n",
    "\n",
    "compound_nouns = []\n",
    "for y in years:\n",
    "    for sentence in docs[y]:\n",
    "        if sentence.isascii():\n",
    "            continue \n",
    "    \n",
    "        tokens = tok.iter_token(sentence)\n",
    "        nouns = tok.extract_nouns(tokens)\n",
    "        # print(nouns)\n",
    "        nouns = tok.filter_nouns(nouns, n=1, stopwords=ignores, stopwords_begin=ignores1, stopwords_end=ignores2)\n",
    "        # print(nouns)\n",
    "        if len(nouns) > 0 :\n",
    "            compound_nouns.extend(nouns)\n",
    "\n",
    "lr = LRValue()\n",
    "# lr_values = lr.fit_transform(compound_nouns)\n",
    "lr_values = lr.fit(compound_nouns).transform(compound_nouns, mode=3)\n",
    "lr_values = [(k,v) for k,v in lr_values.items() if v>0]\n",
    "data_collection = sorted(lr_values, key=lambda x:x[1], reverse=True)\n",
    "list(data_collection)[:50]"
   ]
  },
  {
   "cell_type": "code",
   "execution_count": 44,
   "id": "ee42f893-88fa-4c42-9ccf-63dac294fcab",
   "metadata": {},
   "outputs": [
    {
     "name": "stdout",
     "output_type": "stream",
     "text": [
      "2005-2007\n",
      "[('脳', 15), ('計測', 19), ('筋', 11), ('骨', 15), ('細胞', 6)]\n",
      "2006-2008\n",
      "[('脳', 13), ('計測', 15), ('筋', 9), ('骨', 22), ('細胞', 19)]\n",
      "2007-2009\n",
      "[('脳', 21), ('計測', 15), ('筋', 14), ('骨', 19), ('細胞', 22)]\n",
      "2008-2010\n",
      "[('脳', 19), ('計測', 15), ('筋', 18), ('骨', 18), ('細胞', 22)]\n",
      "2009-2011\n",
      "[('脳', 18), ('計測', 17), ('筋', 21), ('骨', 10), ('細胞', 10)]\n",
      "2010-2012\n",
      "[('脳', 12), ('計測', 20), ('筋', 19), ('骨', 3), ('細胞', 6)]\n",
      "2011-2013\n",
      "[('脳', 16), ('計測', 24), ('筋', 17), ('骨', 7), ('細胞', 14)]\n",
      "2012-2014\n",
      "[('脳', 24), ('計測', 33), ('筋', 19), ('骨', 9), ('細胞', 25)]\n",
      "2013-2015\n",
      "[('脳', 53), ('計測', 63), ('筋', 45), ('骨', 17), ('細胞', 68)]\n",
      "2014-2016\n",
      "[('脳', 64), ('計測', 90), ('筋', 64), ('骨', 25), ('細胞', 99)]\n",
      "2015-2017\n",
      "[('脳', 73), ('計測', 105), ('筋', 73), ('骨', 35), ('細胞', 111)]\n",
      "2016-2018\n",
      "[('脳', 58), ('計測', 93), ('筋', 67), ('骨', 42), ('細胞', 93)]\n",
      "2017-2019\n",
      "[('脳', 77), ('計測', 102), ('筋', 67), ('骨', 38), ('細胞', 89)]\n",
      "2018-2020\n",
      "[('脳', 80), ('計測', 88), ('筋', 66), ('骨', 37), ('細胞', 86)]\n",
      "2019-2021\n",
      "[('脳', 91), ('計測', 96), ('筋', 59), ('骨', 37), ('細胞', 92)]\n",
      "2020-2022\n",
      "[('脳', 78), ('計測', 73), ('筋', 65), ('骨', 40), ('細胞', 71)]\n",
      "[2008, 2009, 2010, 2011, 2012, 2013, 2014, 2015, 2016, 2017, 2018, 2019, 2020, 2021, 2022, 2023]\n",
      "[dict_values([15, 19, 11, 15, 6, 19, 5, 4, 11, 13, 12]), dict_values([13, 15, 9, 22, 19, 19, 4, 4, 9, 16, 7])]\n"
     ]
    }
   ],
   "source": [
    "import random\n",
    "import re\n",
    "from collections import defaultdict\n",
    "\n",
    "topics = [\n",
    "# common\n",
    "    '骨','筋', '脳', '細胞','生体','血管','呼吸','計測','画像','超音波','人工'  # uni-gram\n",
    "    # '脳 機能', '生体 機能', '画像 計測', '光 刺激', '超音波 画像' # bi-gram\n",
    "    # '診断 用 超音波', '脳 機能 解析', '細胞 動態 計測' #tri-gram \n",
    "]\n",
    "\n",
    "base = topics\n",
    "\n",
    "random.shuffle(base)\n",
    "\n",
    "d = 3\n",
    "x = years[d:len(years)]\n",
    "Y = []\n",
    "for i in range(len(years)-d):\n",
    "    y1, y2 = years[i], years[i+2] \n",
    "    print(f\"{y1}-{y2}\")\n",
    "    compound_nouns = []\n",
    "    for y in range(y1, y2+1):\n",
    "        for sentence in docs[y]:\n",
    "            if sentence.isascii():\n",
    "                continue \n",
    "        \n",
    "            tokens = tok.iter_token(sentence)\n",
    "            nouns = tok.extract_nouns(tokens)\n",
    "            # print(nouns)\n",
    "            nouns = tok.filter_nouns(nouns, n=1, stopwords=ignores, stopwords_begin=ignores1, stopwords_end=ignores2)\n",
    "            # print(nouns)\n",
    "            if len(nouns) > 0 :\n",
    "                compound_nouns.extend(nouns)\n",
    "\n",
    "    lr = LRValue()\n",
    "    lr_values = lr.fit(compound_nouns).transform(compound_nouns, mode=3)\n",
    "    lr_values = [(k,v) for k,v in lr_values.items() if v>0]\n",
    "    data = sorted(lr_values, key=lambda x:x[1], reverse=True)\n",
    "\n",
    "    freq = lr.compound_noun\n",
    "    target_freq = defaultdict(int)\n",
    "    target_item = defaultdict(list)\n",
    "    target_freq = {key:0 for key in topics}\n",
    "    for w, c in freq.items():\n",
    "        for k in topics:\n",
    "            if re.match(r'.*'+str(k), w):\n",
    "                target_freq[k] += 1\n",
    "                target_item[k] += [w]\n",
    "\n",
    "    # pprint(data[:5])\n",
    "    pprint(list(target_freq.items())[:5])\n",
    "    # pprint(list(target_item.items())[:5])\n",
    "    Y += [target_freq.values()]\n",
    "print(x)\n",
    "print(Y[0:2]) "
   ]
  },
  {
   "cell_type": "code",
   "execution_count": 45,
   "id": "7b51010f-8102-44ad-be49-b74d720254a2",
   "metadata": {},
   "outputs": [],
   "source": [
    "from  matplotlib import rcParams\n",
    "rcParams['font.family'] = 'Noto Sans CJK JP'"
   ]
  },
  {
   "cell_type": "code",
   "execution_count": 46,
   "id": "fe53027e",
   "metadata": {},
   "outputs": [
    {
     "data": {
      "image/png": "[encoded data removed]",
      "text/plain": [
       "<Figure size 1500x600 with 1 Axes>"
      ]
     },
     "metadata": {},
     "output_type": "display_data"
    }
   ],
   "source": [
    "fig = plt.figure(figsize=[15,6], facecolor='lightblue')\n",
    "y_axis = [ [list(t)[i] for t in Y ] for i,_ in enumerate(base)]\n",
    "\n",
    "ax = []\n",
    "n_fig = 1\n",
    "\n",
    "for i in range(n_fig):\n",
    "    ax.append(fig.add_subplot(n_fig,1,i+1) )\n",
    "\n",
    "d = 9\n",
    "\n",
    "# Color patterns for keywords in stackplot\n",
    "# cf. https://saruwakakun.com/design/gallery/palette\n",
    "\n",
    "# pattern 1: system default\n",
    "colors1 = None  # default colors\n",
    "\n",
    "# pattern 2: dark\n",
    "colors2=['#2E2E2E', '#626262', '#FF5722', '#FF9800', '#FFC107', \n",
    "        '#204495', '#6495ED', '#1C75BC', '#5CC0EF']\n",
    "\n",
    "# pattern 3 : light\n",
    "colors3=['#F6E5D7', '#73D0C2', '#ED8D49', '#FFC530', '#978D86',\n",
    "        '#E85A70', '#4EA1D5', '#AAA5D1', '#454552']\n",
    "\n",
    "for i in range(n_fig):\n",
    "    labels = list(base)[i*d:(i+1)*d]\n",
    "    ax[i].stackplot(x, *(y_axis[i*d:(i+1)*d]), labels=labels, colors=colors2, baseline='wiggle')\n",
    "    # ax[i].legend(loc='best')\n",
    "    ax[i].legend(bbox_to_anchor=(1.03, 1.0), loc='upper left')\n",
    "    # ax[i].set_xlabel('年度')\n",
    "    # ax[i].set_ylabel('使用頻度')\n",
    "\n",
    "plt.savefig('uni-gram.png')\n",
    "plt.show()"
   ]
  },
  {
   "cell_type": "code",
   "execution_count": null,
   "id": "6ce66e7d-8554-46bf-9796-3ac56553d544",
   "metadata": {},
   "outputs": [],
   "source": []
  }
 ],
 "metadata": {
  "kernelspec": {
   "display_name": "Python 3 (ipykernel)",
   "language": "python",
   "name": "python3"
  },
  "language_info": {
   "codemirror_mode": {
    "name": "ipython",
    "version": 3
   },
   "file_extension": ".py",
   "mimetype": "text/x-python",
   "name": "python",
   "nbconvert_exporter": "python",
   "pygments_lexer": "ipython3",
   "version": "3.9.7"
  }
 },
 "nbformat": 4,
 "nbformat_minor": 5
}
